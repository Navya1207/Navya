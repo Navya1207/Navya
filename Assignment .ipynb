{
 "cells": [
  {
   "cell_type": "markdown",
   "id": "b8fea6d2",
   "metadata": {},
   "source": [
    "# My Jupyter Notebook"
   ]
  },
  {
   "cell_type": "markdown",
   "id": "dce7f7aa",
   "metadata": {},
   "source": [
    "<b>Navyashree L</b>\n",
    "\n",
    "I currently work as an IT Trainee in Mainframe systems, but I find Data Science an intresting filed and I am learning about it.\n",
    "    "
   ]
  },
  {
   "cell_type": "markdown",
   "id": "213a04cb",
   "metadata": {},
   "source": [
    "<i>I like Data Science because it is intresting and has many carrer opportunities</i>"
   ]
  },
  {
   "cell_type": "markdown",
   "id": "a9551dc3",
   "metadata": {},
   "source": [
    "### Determine whether the number is odd or even"
   ]
  },
  {
   "cell_type": "code",
   "execution_count": 37,
   "id": "857ea797",
   "metadata": {},
   "outputs": [
    {
     "name": "stdout",
     "output_type": "stream",
     "text": [
      "Enter a number:2\n",
      "The given number is even\n"
     ]
    }
   ],
   "source": [
    "n = int(input(\"Enter a number:\"))\n",
    "if (n % 2)== 0:\n",
    "    print(\"The given number is even\")\n",
    "else:\n",
    "    print(\"The given number is odd\")"
   ]
  },
  {
   "cell_type": "markdown",
   "id": "90c2f68e",
   "metadata": {},
   "source": [
    "<ul>\n",
    "    <li> Mango </li>\n",
    "    <li> Apple </li>\n",
    "    <li> Banana </li>\n",
    "</ul>\n",
    "\n",
    "<hr> </hr>\n",
    "\n",
    "<ol start = \"1\"> \n",
    "    <li> One </li>\n",
    "    <li> Two </li>\n",
    "    <li> Three </li>\n",
    "</ol>\n",
    "\n",
    "<hr> </hr>\n",
    "\n",
    "<table>\n",
    "    <thead>\n",
    "        <th> Name </th>\n",
    "        <th> Color </th>\n",
    "    </thead>\n",
    "    <tbody>\n",
    "        <tr>\n",
    "            <td> Rob </td>\n",
    "            <td> Green </td>\n",
    "        </tr>\n",
    "        <tr>\n",
    "            <td> Jack </td>\n",
    "            <td> Red </td>\n",
    "        </tr>\n",
    "        <tr>\n",
    "            <td> Will </td>\n",
    "            <td> Blue </td>\n",
    "        </tr>\n",
    "    </tbody>\n",
    "</table>"
   ]
  }
 ],
 "metadata": {
  "kernelspec": {
   "display_name": "Python 3 (ipykernel)",
   "language": "python",
   "name": "python3"
  },
  "language_info": {
   "codemirror_mode": {
    "name": "ipython",
    "version": 3
   },
   "file_extension": ".py",
   "mimetype": "text/x-python",
   "name": "python",
   "nbconvert_exporter": "python",
   "pygments_lexer": "ipython3",
   "version": "3.9.13"
  }
 },
 "nbformat": 4,
 "nbformat_minor": 5
}
